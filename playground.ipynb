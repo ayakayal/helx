{
 "cells": [
  {
   "cell_type": "code",
   "execution_count": null,
   "id": "animal-promise",
   "metadata": {},
   "outputs": [],
   "source": [
    "from bsuite.baselines.base import Agent\n",
    "import dm_env\n",
    "from helx.rl import baselines"
   ]
  },
  {
   "cell_type": "code",
   "execution_count": 5,
   "id": "accessory-subject",
   "metadata": {},
   "outputs": [],
   "source": [
    "def run(\n",
    "    agent: Agent,\n",
    "    env: dm_env.Environment,\n",
    "    num_episodes: int,\n",
    "    eval_mode: bool = False,\n",
    ") -> Agent:\n",
    "    wandb.init(project=\"dqn\")\n",
    "    logging.info(\n",
    "        \"Starting {} agent {} on environment {}.\\nThe scheduled number of episode is {}\".format(\n",
    "            \"evaluating\" if eval_mode else \"training\", agent, env, num_episodes\n",
    "        )\n",
    "    )\n",
    "    for episode in range(num_episodes):\n",
    "        print(\n",
    "            \"Starting episode number {}/{}\\t\\t\\t\".format(episode, num_episodes - 1),\n",
    "            end=\"\\r\",\n",
    "        )\n",
    "        wandb.log({\"Episode\": episode})\n",
    "        # initialise environment\n",
    "        timestep = env.reset()\n",
    "        while not timestep.last():\n",
    "            # policy\n",
    "            action = agent.select_action(timestep)\n",
    "            # step environment\n",
    "            new_timestep = env.step(tuple(action))\n",
    "            wandb.log({\"Reward\": new_timestep.reward})\n",
    "            # update\n",
    "            if not eval_mode:\n",
    "                loss = agent.update(timestep, action, new_timestep)\n",
    "                if loss is not None:\n",
    "                    wandb.log({\"Bellman MSE\": float(loss)})\n",
    "                wandb.log({\"Iteration\": agent.iteration})\n",
    "            # prepare next\n",
    "            timestep = new_timestep\n",
    "    return agent"
   ]
  },
  {
   "cell_type": "code",
   "execution_count": null,
   "id": "0fb3b24e-eb9b-4d99-8e03-27b206eaee9c",
   "metadata": {},
   "outputs": [],
   "source": [
    "from functools import partial\n",
    "from typing import NamedTuple, Tuple\n",
    "\n",
    "import dm_env\n",
    "import jax\n",
    "# import jax.numpy as jnp\n",
    "# from bsuite.baselines.base import Action, Agent\n",
    "# from dm_env import specs\n",
    "# from jax.experimental import stax\n",
    "# from jax.experimental.optimizers import OptimizerState, rmsprop_momentum"
   ]
  },
  {
   "cell_type": "code",
   "execution_count": null,
   "id": "40954b25-e432-445f-8fae-9f844b1b72e2",
   "metadata": {},
   "outputs": [],
   "source": []
  }
 ],
 "metadata": {
  "kernelspec": {
   "display_name": "Python 3",
   "language": "python",
   "name": "python3"
  },
  "language_info": {
   "codemirror_mode": {
    "name": "ipython",
    "version": 3
   },
   "file_extension": ".py",
   "mimetype": "text/x-python",
   "name": "python",
   "nbconvert_exporter": "python",
   "pygments_lexer": "ipython3",
   "version": "3.8.8"
  }
 },
 "nbformat": 4,
 "nbformat_minor": 5
}
