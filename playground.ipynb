{
 "cells": [
  {
   "cell_type": "code",
   "execution_count": 1,
   "id": "c163c0b0-8153-4d36-86f8-b7e7f35c4a7b",
   "metadata": {},
   "outputs": [],
   "source": [
    "%load_ext autoreload\n",
    "%autoreload 2"
   ]
  },
  {
   "cell_type": "code",
   "execution_count": 4,
   "id": "animal-promise",
   "metadata": {},
   "outputs": [
    {
     "data": {
      "text/html": [
       "Finishing last run (ID:3rqkd57i) before initializing another..."
      ],
      "text/plain": [
       "<IPython.core.display.HTML object>"
      ]
     },
     "metadata": {},
     "output_type": "display_data"
    },
    {
     "data": {
      "text/html": [
       "<br/>Waiting for W&B process to finish, PID 19527<br/>Program ended successfully."
      ],
      "text/plain": [
       "<IPython.core.display.HTML object>"
      ]
     },
     "metadata": {},
     "output_type": "display_data"
    },
    {
     "data": {
      "text/html": [
       "Find user logs for this run at: <code>/home/epignatelli/repos/helx/wandb/run-20210508_121802-3rqkd57i/logs/debug.log</code>"
      ],
      "text/plain": [
       "<IPython.core.display.HTML object>"
      ]
     },
     "metadata": {},
     "output_type": "display_data"
    },
    {
     "data": {
      "text/html": [
       "Find internal logs for this run at: <code>/home/epignatelli/repos/helx/wandb/run-20210508_121802-3rqkd57i/logs/debug-internal.log</code>"
      ],
      "text/plain": [
       "<IPython.core.display.HTML object>"
      ]
     },
     "metadata": {},
     "output_type": "display_data"
    },
    {
     "data": {
      "text/html": [
       "Synced 5 W&B file(s), 0 media file(s), 3 artifact file(s) and 1 other file(s)"
      ],
      "text/plain": [
       "<IPython.core.display.HTML object>"
      ]
     },
     "metadata": {},
     "output_type": "display_data"
    },
    {
     "data": {
      "text/html": [
       "\n",
       "                    <br/>Synced <strong style=\"color:#cdcd00\">dry-pine-1</strong>: <a href=\"https://wandb.ai/epignatelli/helx/runs/3rqkd57i\" target=\"_blank\">https://wandb.ai/epignatelli/helx/runs/3rqkd57i</a><br/>\n",
       "                "
      ],
      "text/plain": [
       "<IPython.core.display.HTML object>"
      ]
     },
     "metadata": {},
     "output_type": "display_data"
    },
    {
     "data": {
      "text/html": [
       "...Successfully finished last run (ID:3rqkd57i). Initializing new run:<br/><br/>"
      ],
      "text/plain": [
       "<IPython.core.display.HTML object>"
      ]
     },
     "metadata": {},
     "output_type": "display_data"
    },
    {
     "name": "stderr",
     "output_type": "stream",
     "text": [
      "\u001b[34m\u001b[1mwandb\u001b[0m: wandb version 0.10.30 is available!  To upgrade, please run:\n",
      "\u001b[34m\u001b[1mwandb\u001b[0m:  $ pip install wandb --upgrade\n"
     ]
    },
    {
     "data": {
      "text/html": [
       "\n",
       "                Tracking run with wandb version 0.10.27<br/>\n",
       "                Syncing run <strong style=\"color:#cdcd00\">deep-sun-2</strong> to <a href=\"https://wandb.ai\" target=\"_blank\">Weights & Biases</a> <a href=\"https://docs.wandb.com/integrations/jupyter.html\" target=\"_blank\">(Documentation)</a>.<br/>\n",
       "                Project page: <a href=\"https://wandb.ai/epignatelli/helx\" target=\"_blank\">https://wandb.ai/epignatelli/helx</a><br/>\n",
       "                Run page: <a href=\"https://wandb.ai/epignatelli/helx/runs/21qflvyu\" target=\"_blank\">https://wandb.ai/epignatelli/helx/runs/21qflvyu</a><br/>\n",
       "                Run data is saved locally in <code>/home/epignatelli/repos/helx/wandb/run-20210508_121816-21qflvyu</code><br/><br/>\n",
       "            "
      ],
      "text/plain": [
       "<IPython.core.display.HTML object>"
      ]
     },
     "metadata": {},
     "output_type": "display_data"
    }
   ],
   "source": [
    "import helx\n",
    "from helx.rl import baselines, environment\n",
    "import wandb\n",
    "\n",
    "\n",
    "if __name__ == \"__main__\":\n",
    "\n",
    "    env = environment.make_minigrid(\"MiniGrid-Empty-6x6-v0\")\n",
    "    hparams = baselines.dqn.HParams(\n",
    "        replay_memory_size=5000, replay_start=5000, batch_size=32\n",
    "    )\n",
    "    agent = baselines.dqn.Dqn((56, 56, 3), env.action_spec().num_values, hparams)"
   ]
  },
  {
   "cell_type": "code",
   "execution_count": 18,
   "id": "96e0fe85-2d99-4892-821a-99a5761180c5",
   "metadata": {},
   "outputs": [
    {
     "name": "stdout",
     "output_type": "stream",
     "text": [
      "random policy\n",
      "[0]\n",
      "random policy\n",
      "[0]\n",
      "random policy\n",
      "[0]\n",
      "random policy\n",
      "[0]\n",
      "random policy\n",
      "[0]\n",
      "random policy\n",
      "[0]\n",
      "random policy\n",
      "[0]\n",
      "random policy\n",
      "[0]\n",
      "random policy\n",
      "[0]\n",
      "random policy\n",
      "[0]\n",
      "random policy\n",
      "[0]\n",
      "random policy\n",
      "[0]\n",
      "random policy\n",
      "[0]\n",
      "random policy\n",
      "[0]\n",
      "random policy\n",
      "[0]\n",
      "random policy\n",
      "[0]\n",
      "random policy\n",
      "[0]\n",
      "random policy\n",
      "[0]\n",
      "random policy\n",
      "[0]\n",
      "random policy\n",
      "[0]\n",
      "random policy\n",
      "[0]\n",
      "random policy\n",
      "[0]\n",
      "random policy\n",
      "[0]\n",
      "random policy\n",
      "[0]\n",
      "random policy\n",
      "[0]\n",
      "random policy\n",
      "[0]\n",
      "random policy\n",
      "[0]\n",
      "random policy\n",
      "[0]\n",
      "random policy\n",
      "[0]\n",
      "random policy\n",
      "[0]\n",
      "random policy\n",
      "[0]\n",
      "random policy\n",
      "[0]\n",
      "random policy\n",
      "[0]\n",
      "random policy\n",
      "[0]\n",
      "random policy\n",
      "[0]\n",
      "random policy\n",
      "[0]\n",
      "random policy\n",
      "[0]\n",
      "random policy\n",
      "[0]\n",
      "random policy\n",
      "[0]\n",
      "random policy\n",
      "[0]\n",
      "random policy\n",
      "[0]\n",
      "random policy\n",
      "[0]\n",
      "random policy\n",
      "[0]\n",
      "random policy\n",
      "[0]\n",
      "random policy\n",
      "[0]\n",
      "random policy\n",
      "[0]\n",
      "random policy\n",
      "[0]\n",
      "random policy\n",
      "[0]\n",
      "random policy\n",
      "[0]\n",
      "random policy\n",
      "[0]\n",
      "random policy\n",
      "[0]\n",
      "random policy\n",
      "[0]\n",
      "random policy\n",
      "[0]\n",
      "random policy\n",
      "[0]\n",
      "random policy\n",
      "[0]\n",
      "random policy\n",
      "[0]\n",
      "random policy\n",
      "[0]\n",
      "random policy\n",
      "[0]\n",
      "random policy\n",
      "[0]\n",
      "random policy\n",
      "[0]\n",
      "random policy\n",
      "[0]\n",
      "random policy\n",
      "[0]\n",
      "random policy\n",
      "[0]\n",
      "random policy\n",
      "[0]\n",
      "random policy\n",
      "[0]\n",
      "random policy\n",
      "[0]\n",
      "random policy\n",
      "[0]\n",
      "random policy\n",
      "[0]\n",
      "random policy\n",
      "[0]\n",
      "random policy\n",
      "[0]\n",
      "random policy\n",
      "[0]\n",
      "random policy\n",
      "[0]\n",
      "random policy\n",
      "[0]\n",
      "random policy\n",
      "[0]\n",
      "random policy\n",
      "[0]\n",
      "random policy\n",
      "[0]\n",
      "random policy\n",
      "[0]\n",
      "random policy\n",
      "[0]\n",
      "random policy\n",
      "[0]\n",
      "random policy\n",
      "[0]\n",
      "random policy\n",
      "[0]\n",
      "random policy\n",
      "[0]\n",
      "random policy\n",
      "[0]\n",
      "random policy\n",
      "[0]\n",
      "random policy\n",
      "[0]\n",
      "random policy\n",
      "[0]\n",
      "random policy\n",
      "[0]\n",
      "random policy\n",
      "[0]\n",
      "random policy\n",
      "[0]\n",
      "random policy\n",
      "[0]\n",
      "random policy\n",
      "[0]\n",
      "random policy\n",
      "[0]\n",
      "random policy\n",
      "[0]\n",
      "random policy\n",
      "[0]\n",
      "random policy\n",
      "[0]\n",
      "random policy\n",
      "[0]\n",
      "random policy\n",
      "[0]\n",
      "random policy\n",
      "[0]\n",
      "random policy\n",
      "[0]\n",
      "random policy\n",
      "[0]\n",
      "random policy\n",
      "[0]\n",
      "random policy\n",
      "[0]\n",
      "random policy\n",
      "[0]\n",
      "random policy\n",
      "[0]\n",
      "random policy\n",
      "[0]\n",
      "random policy\n",
      "[0]\n",
      "random policy\n",
      "[0]\n",
      "random policy\n",
      "[0]\n",
      "random policy\n",
      "[0]\n",
      "random policy\n",
      "[0]\n",
      "random policy\n",
      "[0]\n",
      "random policy\n",
      "[0]\n",
      "random policy\n",
      "[0]\n",
      "random policy\n",
      "[0]\n",
      "random policy\n",
      "[0]\n",
      "random policy\n",
      "[0]\n",
      "random policy\n",
      "[0]\n",
      "random policy\n",
      "[0]\n",
      "random policy\n",
      "[0]\n",
      "random policy\n",
      "[0]\n",
      "random policy\n",
      "[0]\n",
      "random policy\n",
      "[0]\n",
      "random policy\n",
      "[0]\n",
      "random policy\n",
      "[0]\n",
      "random policy\n",
      "[0]\n",
      "random policy\n",
      "[0]\n",
      "random policy\n",
      "[0]\n",
      "random policy\n",
      "[0]\n",
      "random policy\n",
      "[0]\n",
      "random policy\n",
      "[0]\n",
      "random policy\n",
      "[0]\n",
      "random policy\n",
      "[0]\n",
      "random policy\n",
      "[0]\n",
      "random policy\n",
      "[0]\n",
      "random policy\n",
      "[0]\n",
      "random policy\n",
      "[0]\n",
      "random policy\n",
      "[0]\n",
      "random policy\n",
      "[0]\n",
      "random policy\n",
      "[0]\n",
      "random policy\n",
      "[0]\n",
      "random policy\n",
      "[0]\n",
      "random policy\n",
      "[0]\n",
      "random policy\n",
      "[0]\n",
      "random policy\n",
      "[0]\n"
     ]
    }
   ],
   "source": [
    "import jax\n",
    "timestep = env.reset()\n",
    "while not timestep.last():\n",
    "    #  apply policy\n",
    "    action = agent.policy(timestep)\n",
    "    ## get action\n",
    "    self = agent\n",
    "    if jax.random.uniform(self.rng, (1,)) < self.epsilon:\n",
    "        print(\"random policy\")\n",
    "        action = jax.random.randint(self.rng, (1,), 0, self.n_actions)\n",
    "    else:\n",
    "        print(\"greedy policy\")\n",
    "        state = timestep.observation[None, ...]  # batching\n",
    "        q_values = self.forward(self._online_params, state)\n",
    "        action = jnp.argmax(q_values)    \n",
    "    \n",
    "    ## \n",
    "    print(action)\n",
    "    #  observe new state\n",
    "    new_timestep = agent.observe(env, timestep, action)\n",
    "    #  update policy\n",
    "    loss = None\n",
    "    if not eval:\n",
    "        loss = agent.update(timestep, action, new_timestep)\n",
    "    # prepare next iteration\n",
    "    timestep = new_timestep"
   ]
  },
  {
   "cell_type": "code",
   "execution_count": 19,
   "id": "d39c5bb9-56cf-4911-b5a0-1f15c736d808",
   "metadata": {},
   "outputs": [
    {
     "data": {
      "text/plain": [
       "DeviceArray([0], dtype=int32)"
      ]
     },
     "execution_count": 19,
     "metadata": {},
     "output_type": "execute_result"
    }
   ],
   "source": [
    "jax.random.randint(self.rng, (1,), 0, self.n_actions)"
   ]
  },
  {
   "cell_type": "code",
   "execution_count": 1,
   "id": "5761879e-03a7-41bd-83d7-c5e1b3af2c28",
   "metadata": {},
   "outputs": [],
   "source": [
    "from helx.random import PRNGSequence"
   ]
  },
  {
   "cell_type": "code",
   "execution_count": 5,
   "id": "4b40b57d-54e8-4ad7-8fef-ff8ca8fe9bbf",
   "metadata": {},
   "outputs": [],
   "source": [
    "k = PRNGSequence(0)"
   ]
  },
  {
   "cell_type": "code",
   "execution_count": 6,
   "id": "3a8657b1-5a35-4ef4-a69e-28cbe71ff6e1",
   "metadata": {},
   "outputs": [
    {
     "name": "stdout",
     "output_type": "stream",
     "text": [
      "[4146024105  967050713]\n",
      "[3746991216 1902760697]\n",
      "[2415289872 3870638741]\n",
      "[1908869515 1172436361]\n",
      "[ 145021652 2649282573]\n",
      "[1409544366 3423741852]\n",
      "[2119404134 3000745408]\n",
      "[2580787029  482974955]\n",
      "[1297192877 2312490732]\n",
      "[3489202107 1640625132]\n"
     ]
    }
   ],
   "source": [
    "for i in range(10):\n",
    "    print(next(k))"
   ]
  },
  {
   "cell_type": "code",
   "execution_count": null,
   "id": "3e151d4d-a73e-4c4b-9065-8deaa0696ebf",
   "metadata": {},
   "outputs": [],
   "source": []
  }
 ],
 "metadata": {
  "kernelspec": {
   "display_name": "Python 3",
   "language": "python",
   "name": "python3"
  },
  "language_info": {
   "codemirror_mode": {
    "name": "ipython",
    "version": 3
   },
   "file_extension": ".py",
   "mimetype": "text/x-python",
   "name": "python",
   "nbconvert_exporter": "python",
   "pygments_lexer": "ipython3",
   "version": "3.8.8"
  }
 },
 "nbformat": 4,
 "nbformat_minor": 5
}
